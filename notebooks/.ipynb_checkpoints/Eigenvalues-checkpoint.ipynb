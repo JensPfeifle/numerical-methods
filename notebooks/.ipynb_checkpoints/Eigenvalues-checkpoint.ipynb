{
 "cells": [
  {
   "cell_type": "code",
   "execution_count": 13,
   "metadata": {},
   "outputs": [],
   "source": [
    "import numpy as np\n",
    "import numpy.linalg as la"
   ]
  },
  {
   "cell_type": "code",
   "execution_count": 186,
   "metadata": {},
   "outputs": [],
   "source": [
    "def my_householder(y: np.ndarray):\n",
    "    N = len(y)\n",
    "    v = np.concatenate([np.array([1.0]),y[1:]])\n",
    "    if N == 1:\n",
    "        s = 0\n",
    "        beta = 0\n",
    "    else:\n",
    "        s = np.inner(y[1:],y[1:])\n",
    "        mu = np.sqrt(y[0]**2 + s)\n",
    "        # Case to prevent instability from rounding errors\n",
    "        if y[0] <= 0:\n",
    "            v[0] = y[0] - mu  # auslöschung!\n",
    "        else:\n",
    "            v[0] = -s / (y[0] + mu)\n",
    "        beta = 2*v[0]**2/(s + v[0]**2)\n",
    "        v = v / v[0]\n",
    "    return v, beta"
   ]
  },
  {
   "cell_type": "code",
   "execution_count": 187,
   "metadata": {},
   "outputs": [],
   "source": [
    "def householder_vector(x: np.ndarray):\n",
    "    \"\"\" Calculate the householder vector given a vector x\"\"\"\n",
    "    N = len(x)\n",
    "    e = np.zeros(len(x))\n",
    "    e[0] = la.norm(x)\n",
    "    v = e - x\n",
    "    if N == 1:\n",
    "        beta = 0\n",
    "        v = np.array([1.0])\n",
    "    else:\n",
    "        v = v/v[0]\n",
    "        beta = 2 / np.inner(v,v)\n",
    "    return v, int(beta)"
   ]
  },
  {
   "cell_type": "code",
   "execution_count": 190,
   "metadata": {},
   "outputs": [
    {
     "name": "stdout",
     "output_type": "stream",
     "text": [
      "[1.         2.13504161] 0.3598156003355201\n",
      "H=\n",
      " [[ 0.6401844  -0.76822128]\n",
      " [-0.76822128 -0.6401844 ]]\n"
     ]
    }
   ],
   "source": [
    "x = np.array([10,-12])\n",
    "w, beta = my_householder(x)\n",
    "print(w, beta)\n",
    "H = np.identity(len(x)) - beta*np.outer(w,w)\n",
    "print(\"H=\\n\", H)"
   ]
  },
  {
   "cell_type": "code",
   "execution_count": 191,
   "metadata": {},
   "outputs": [
    {
     "name": "stdout",
     "output_type": "stream",
     "text": [
      "[1.         2.13504161] 0\n",
      "H=\n",
      " [[1. 0.]\n",
      " [0. 1.]]\n"
     ]
    }
   ],
   "source": [
    "w, beta = householder_vector(x)\n",
    "print(w, beta)\n",
    "H = np.identity(len(x)) - beta*np.outer(w,w)\n",
    "print(\"H=\\n\", H)"
   ]
  },
  {
   "cell_type": "code",
   "execution_count": 192,
   "metadata": {},
   "outputs": [
    {
     "name": "stdout",
     "output_type": "stream",
     "text": [
      "[ 10 -12]\n",
      "[ 1.         -0.46837495]\n",
      "[-15.62049935  -0.        ]\n"
     ]
    },
    {
     "data": {
      "text/plain": [
       "1.64018439966448"
      ]
     },
     "execution_count": 192,
     "metadata": {},
     "output_type": "execute_result"
    }
   ],
   "source": [
    "w = ((x + la.norm(x)*np.array([1,0]))/(x[0]+ la.norm(x)))\n",
    "print(x)\n",
    "print(w)\n",
    "sigma = -1*la.norm(x)\n",
    "print(sigma*np.array([1,0]))\n",
    "\n",
    "beta = 2 / np.inner(w,w)\n",
    "H = np.identity(len(x)) - (beta)*np.outer(w,w)\n",
    "beta"
   ]
  },
  {
   "cell_type": "code",
   "execution_count": 140,
   "metadata": {},
   "outputs": [
    {
     "data": {
      "text/plain": [
       "array([[ 0.5547002 ,  0.83205029],\n",
       "       [ 0.83205029, -0.5547002 ]])"
      ]
     },
     "execution_count": 140,
     "metadata": {},
     "output_type": "execute_result"
    }
   ],
   "source": [
    "w, beta = householder(x)\n",
    "H = np.identity(len(x)) - beta*np.outer(w,w)\n",
    "H"
   ]
  },
  {
   "cell_type": "code",
   "execution_count": 134,
   "metadata": {},
   "outputs": [
    {
     "data": {
      "text/plain": [
       "(array([ 1.        , -1.86851709]), 0.4452998037747708)"
      ]
     },
     "execution_count": 134,
     "metadata": {},
     "output_type": "execute_result"
    }
   ],
   "source": [
    "my_householder(x)"
   ]
  },
  {
   "cell_type": "code",
   "execution_count": null,
   "metadata": {},
   "outputs": [],
   "source": []
  }
 ],
 "metadata": {
  "kernelspec": {
   "display_name": "Python 3",
   "language": "python",
   "name": "python3"
  },
  "language_info": {
   "codemirror_mode": {
    "name": "ipython",
    "version": 3
   },
   "file_extension": ".py",
   "mimetype": "text/x-python",
   "name": "python",
   "nbconvert_exporter": "python",
   "pygments_lexer": "ipython3",
   "version": "3.6.6"
  }
 },
 "nbformat": 4,
 "nbformat_minor": 2
}
