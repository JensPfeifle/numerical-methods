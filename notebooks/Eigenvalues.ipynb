{
 "cells": [
  {
   "cell_type": "code",
   "execution_count": 13,
   "metadata": {},
   "outputs": [],
   "source": [
    "import numpy as np\n",
    "import numpy.linalg as la"
   ]
  },
  {
   "cell_type": "code",
   "execution_count": 268,
   "metadata": {},
   "outputs": [],
   "source": [
    "def householder(y: np.ndarray):\n",
    "    N = len(y)\n",
    "    v = np.concatenate([np.array([1.0]),y[1:]])\n",
    "    if N == 1:\n",
    "        sigma = 0\n",
    "        beta = 0\n",
    "    else:\n",
    "        sigma = np.inner(y[1:],y[1:])\n",
    "        mu = np.sqrt(y[0]**2 + sigma)\n",
    "        # Case to prevent instability from cancelation\n",
    "        if y[0] <= 0:\n",
    "            v[0] = y[0] - mu\n",
    "        else:\n",
    "            v[0] = (-sigma)/(y[0] + mu) # Formula by Parlett (1971)\n",
    "        beta = 2*v[0]**2/(sigma + v[0]**2)\n",
    "        v = v / v[0]\n",
    "    return v, beta"
   ]
  },
  {
   "cell_type": "code",
   "execution_count": 269,
   "metadata": {},
   "outputs": [
    {
     "name": "stdout",
     "output_type": "stream",
     "text": [
      "[ 1.         -0.04987562] 1.995037190209989\n",
      "H=\n",
      " [[-0.99503719  0.09950372]\n",
      " [ 0.09950372  0.99503719]]\n",
      "Hx=\n",
      " [10.04987562  0.        ]\n"
     ]
    }
   ],
   "source": [
    "x = np.array([-10,1])\n",
    "w, beta = householder(x)\n",
    "print(w, beta)\n",
    "H = np.identity(len(x)) - beta*np.outer(w,w)\n",
    "print(\"H=\\n\", H)\n",
    "print(\"Hx=\\n\", np.dot(H,x))\n"
   ]
  },
  {
   "cell_type": "code",
   "execution_count": null,
   "metadata": {},
   "outputs": [],
   "source": []
  }
 ],
 "metadata": {
  "kernelspec": {
   "display_name": "Python 3",
   "language": "python",
   "name": "python3"
  },
  "language_info": {
   "codemirror_mode": {
    "name": "ipython",
    "version": 3
   },
   "file_extension": ".py",
   "mimetype": "text/x-python",
   "name": "python",
   "nbconvert_exporter": "python",
   "pygments_lexer": "ipython3",
   "version": "3.6.6"
  }
 },
 "nbformat": 4,
 "nbformat_minor": 2
}
